{
 "cells": [
  {
   "cell_type": "markdown",
   "id": "e7d13921-81d0-4d92-a208-314d84a748e1",
   "metadata": {},
   "source": [
    "# Write an SQL query to report the nth highest salary from the Employee table. If there is no nth highestsalary, the query should report null."
   ]
  },
  {
   "cell_type": "markdown",
   "id": "20a5685c-9efd-461f-9381-c3f165d647bf",
   "metadata": {},
   "source": [
    "~~~sql\n",
    "    SELECT DISTINCT Salary AS NthHighestSalary\n",
    "    FROM Employee Emp1\n",
    "    WHERE n = (\n",
    "            SELECT COUNT(DISTINCT Salary)\n",
    "            FROM Employee Emp2\n",
    "            WHERE Emp2.Salary >= Emp1.Salary\n",
    "                )\n",
    "~~~\n"
   ]
  },
  {
   "cell_type": "code",
   "execution_count": null,
   "id": "cbac2185-34a6-4553-aa4c-90f8bb77eab4",
   "metadata": {},
   "outputs": [],
   "source": []
  }
 ],
 "metadata": {
  "kernelspec": {
   "display_name": "Python 3 (ipykernel)",
   "language": "python",
   "name": "python3"
  },
  "language_info": {
   "codemirror_mode": {
    "name": "ipython",
    "version": 3
   },
   "file_extension": ".py",
   "mimetype": "text/x-python",
   "name": "python",
   "nbconvert_exporter": "python",
   "pygments_lexer": "ipython3",
   "version": "3.9.7"
  },
  "toc-autonumbering": true
 },
 "nbformat": 4,
 "nbformat_minor": 5
}
