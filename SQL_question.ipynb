{
 "cells": [
  {
   "cell_type": "markdown",
   "id": "e7d13921-81d0-4d92-a208-314d84a748e1",
   "metadata": {},
   "source": [
    "# Write an SQL query to report the nth highest salary from the Employee table. If there is no nth highestsalary, the query should report null."
   ]
  },
  {
   "cell_type": "markdown",
   "id": "20a5685c-9efd-461f-9381-c3f165d647bf",
   "metadata": {},
   "source": [
    "~~~sql\n",
    "    SELECT DISTINCT Salary AS NthHighestSalary\n",
    "    FROM Employee Emp1\n",
    "    WHERE n = (\n",
    "            SELECT COUNT(DISTINCT Salary)\n",
    "            FROM Employee Emp2\n",
    "            WHERE Emp2.Salary >= Emp1.Salary\n",
    "                )\n",
    "~~~\n"
   ]
  },
  {
   "cell_type": "markdown",
   "id": "1959e471-169c-43ae-9653-615d962ac288",
   "metadata": {},
   "source": [
    "# Write an SQL query to rank the scores, The ranking should \u001ae calculated according to the following rules\n",
    "> . The scores should be ranked from the highest to the lowest+\n",
    "> . If there is a tie between two scores, both should have the same ranking+\n",
    "> . After a tie, the next ranking number should be the next consecutive integer value, In other words, there should be no holes between ranks"
   ]
  },
  {
   "cell_type": "markdown",
   "id": "be56e062-af33-494c-b381-428173d463f0",
   "metadata": {},
   "source": [
    "~~~sql\n",
    "SELECT score, DENSE_RANK() OVER (ORDER BY score DESC) AS ranking\n",
    "FROM your_table_name;\n",
    "~~~"
   ]
  },
  {
   "cell_type": "markdown",
   "id": "b8c0b6b2-d011-4b61-aea2-0924c7b5d23c",
   "metadata": {},
   "source": [
    "# Write an SQL query to find all numbers that appear at least three times consecutively."
   ]
  },
  {
   "cell_type": "markdown",
   "id": "c7ca2084-1a12-486a-b2b9-ea5569adbb8d",
   "metadata": {},
   "source": [
    "~~~sql\n",
    "SELECT DISTINCT num\n",
    "FROM (\n",
    "    SELECT\n",
    "        num,\n",
    "        LEAD(num, 1) OVER (ORDER BY id) AS next_num,\n",
    "        LEAD(num, 2) OVER (ORDER BY id) AS next_next_num\n",
    "    FROM your_table_name\n",
    ") AS consecutive_nums\n",
    "WHERE num = next_num AND num = next_next_num;\n"
   ]
  },
  {
   "cell_type": "markdown",
   "id": "e9173c39-472b-40d7-ad7e-e15a6d96c129",
   "metadata": {},
   "source": [
    "# Write an SQL query to find the employees who earn more than their managers."
   ]
  },
  {
   "cell_type": "markdown",
   "id": "c81320e0-cf32-4485-ba4f-811aa1632d8d",
   "metadata": {},
   "source": [
    "~~~sql\n",
    "SELECT emp.*\n",
    "FROM Employees emp\n",
    "JOIN Employees mgr ON emp.ManagerId = mgr.EmployeeId\n",
    "WHERE emp.Salary > mgr.Salary;\n",
    "~~~"
   ]
  },
  {
   "cell_type": "markdown",
   "id": "a4347791-e742-4af8-bf30-2f49470de461",
   "metadata": {},
   "source": [
    "# Write an SQL query to report all the duplicate emails. Note that it's guaranteed that the email field is not NULL."
   ]
  },
  {
   "cell_type": "markdown",
   "id": "01f0f6bb-b366-4b30-94cd-31cd549e96f6",
   "metadata": {},
   "source": [
    "~~~sql\n",
    "    SELECT email, COUNT(*) AS duplicate_count\n",
    "    FROM your_table_name\n",
    "    GROUP BY email\n",
    "    HAVING COUNT(*) > 1;\n",
    "~~~"
   ]
  },
  {
   "cell_type": "markdown",
   "id": "fedb6032-b06a-435f-8b93-c464e70c55da",
   "metadata": {},
   "source": [
    "# Write an SQL query to report all customers who never order anything. using customer and orders table"
   ]
  },
  {
   "cell_type": "markdown",
   "id": "daf8db82-23a3-4055-baa9-ccad2967e663",
   "metadata": {},
   "source": [
    "~~~sql\n",
    "SELECT customers.customer_id, customers.customer_name\n",
    "FROM customers\n",
    "LEFT JOIN orders ON customers.customer_id = orders.customer_id\n",
    "WHERE orders.order_id IS NULL;\n",
    "~~~"
   ]
  },
  {
   "cell_type": "markdown",
   "id": "ae8e27ed-afcc-4b18-b784-18ea28a8d9df",
   "metadata": {},
   "source": [
    "# Write an SQL query to find employees who have the highest salary in each of the department"
   ]
  },
  {
   "cell_type": "markdown",
   "id": "4745c3e1-cff2-4d96-bf47-f0ee5b77c287",
   "metadata": {},
   "source": [
    "~~~sql\n",
    "WITH RankedEmployees AS (\n",
    "  SELECT employee_id, employee_name, department_id, salary,\n",
    "         ROW_NUMBER() OVER (PARTITION BY department_id ORDER BY salary DESC) AS salary_rank\n",
    "  FROM employees\n",
    ")\n",
    "\n",
    "SELECT employee_id, employee_name, department_id, salary\n",
    "FROM RankedEmployees\n",
    "WHERE salary_rank = 1;\n",
    "~~~"
   ]
  },
  {
   "cell_type": "markdown",
   "id": "e38a7185-114e-4d18-bccf-5a30ba7a6944",
   "metadata": {},
   "source": [
    "# Write an SQL query to delete all the duplicate emails, keeping only one unique email with the smallest id. Note that you are supposed to write a DELETE statement and not a SELECT one."
   ]
  },
  {
   "cell_type": "markdown",
   "id": "ec1527a4-bbc2-467e-a038-c332eecfb3f4",
   "metadata": {},
   "source": [
    "~~~sql\n",
    "DELETE FROM your_table_name\n",
    "WHERE id NOT IN (\n",
    "  SELECT MIN(id)\n",
    "  FROM your_table_name\n",
    "  GROUP BY email\n",
    ");\n",
    "~~~"
   ]
  },
  {
   "cell_type": "markdown",
   "id": "fbfc319b-6584-4380-9c11-2d14d4469784",
   "metadata": {},
   "source": [
    "# Write an SQL query to find all dates' Id with higher temperatures compared to its previous dates (yesterday)"
   ]
  },
  {
   "cell_type": "markdown",
   "id": "150d4f26-51d0-46d9-bdf4-3c4863be355f",
   "metadata": {},
   "source": [
    "## S1\n",
    "~~~sql\n",
    "SELECT t1.id\n",
    "FROM temperature_data t1\n",
    "JOIN temperature_data t2 ON t1.date = DATE_SUB(t2.date, INTERVAL 1 DAY)\n",
    "WHERE t1.temperature > t2.temperature;\n",
    "~~~\n",
    "## S2"
   ]
  }
 ],
 "metadata": {
  "kernelspec": {
   "display_name": "Python 3 (ipykernel)",
   "language": "python",
   "name": "python3"
  },
  "language_info": {
   "codemirror_mode": {
    "name": "ipython",
    "version": 3
   },
   "file_extension": ".py",
   "mimetype": "text/x-python",
   "name": "python",
   "nbconvert_exporter": "python",
   "pygments_lexer": "ipython3",
   "version": "3.9.7"
  },
  "toc-autonumbering": true,
  "toc-showmarkdowntxt": false
 },
 "nbformat": 4,
 "nbformat_minor": 5
}
