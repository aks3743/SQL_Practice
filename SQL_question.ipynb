{
 "cells": [
  {
   "cell_type": "markdown",
   "id": "e7d13921-81d0-4d92-a208-314d84a748e1",
   "metadata": {},
   "source": [
    "# Write an SQL query to report the nth highest salary from the Employee table. If there is no nth highestsalary, the query should report null."
   ]
  },
  {
   "cell_type": "markdown",
   "id": "20a5685c-9efd-461f-9381-c3f165d647bf",
   "metadata": {},
   "source": [
    "~~~sql\n",
    "    SELECT DISTINCT Salary AS NthHighestSalary\n",
    "    FROM Employee Emp1\n",
    "    WHERE n = (\n",
    "            SELECT COUNT(DISTINCT Salary)\n",
    "            FROM Employee Emp2\n",
    "            WHERE Emp2.Salary >= Emp1.Salary\n",
    "                )\n",
    "~~~\n"
   ]
  },
  {
   "cell_type": "markdown",
   "id": "1959e471-169c-43ae-9653-615d962ac288",
   "metadata": {},
   "source": [
    "# Write an SQL query to rank the scores, The ranking should \u001ae calculated according to the following rules\n",
    "> . The scores should be ranked from the highest to the lowest+\n",
    "> . If there is a tie between two scores, both should have the same ranking+\n",
    "> . After a tie, the next ranking number should be the next consecutive integer value, In other words, there should be no holes between ranks"
   ]
  },
  {
   "cell_type": "markdown",
   "id": "be56e062-af33-494c-b381-428173d463f0",
   "metadata": {},
   "source": [
    "~~~sql\n",
    "SELECT score, DENSE_RANK() OVER (ORDER BY score DESC) AS ranking\n",
    "FROM your_table_name;\n",
    "~~~"
   ]
  },
  {
   "cell_type": "markdown",
   "id": "b8c0b6b2-d011-4b61-aea2-0924c7b5d23c",
   "metadata": {},
   "source": [
    "# Write an SQL query to find all numbers that appear at least three times consecutively."
   ]
  },
  {
   "cell_type": "markdown",
   "id": "c7ca2084-1a12-486a-b2b9-ea5569adbb8d",
   "metadata": {},
   "source": []
  }
 ],
 "metadata": {
  "kernelspec": {
   "display_name": "Python 3 (ipykernel)",
   "language": "python",
   "name": "python3"
  },
  "language_info": {
   "codemirror_mode": {
    "name": "ipython",
    "version": 3
   },
   "file_extension": ".py",
   "mimetype": "text/x-python",
   "name": "python",
   "nbconvert_exporter": "python",
   "pygments_lexer": "ipython3",
   "version": "3.9.7"
  },
  "toc-autonumbering": true,
  "toc-showmarkdowntxt": false
 },
 "nbformat": 4,
 "nbformat_minor": 5
}
